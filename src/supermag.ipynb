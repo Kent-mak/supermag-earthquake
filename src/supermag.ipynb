{
 "cells": [
  {
   "cell_type": "code",
   "execution_count": 1,
   "metadata": {},
   "outputs": [],
   "source": [
    "import xarray as xr\n",
    "import matplotlib.pyplot as plt\n",
    "import pandas as pd\n",
    "import torch\n",
    "import numpy as np\n",
    "from datetime import datetime\n",
    "import os"
   ]
  },
  {
   "cell_type": "code",
   "execution_count": 2,
   "metadata": {},
   "outputs": [
    {
     "name": "stdout",
     "output_type": "stream",
     "text": [
      "loading raw data...\n",
      "<xarray.Dataset> Size: 7GB\n",
      "Dimensions:  (block: 527040, vector: 201)\n",
      "Dimensions without coordinates: block, vector\n",
      "Data variables: (12/23)\n",
      "    dbe_geo  (block, vector) float32 424MB dask.array<chunksize=(296940, 113), meta=np.ndarray>\n",
      "    dbe_nez  (block, vector) float32 424MB dask.array<chunksize=(296940, 113), meta=np.ndarray>\n",
      "    dbn_geo  (block, vector) float32 424MB dask.array<chunksize=(296940, 113), meta=np.ndarray>\n",
      "    dbn_nez  (block, vector) float32 424MB dask.array<chunksize=(296940, 113), meta=np.ndarray>\n",
      "    dbz_geo  (block, vector) float32 424MB dask.array<chunksize=(296940, 113), meta=np.ndarray>\n",
      "    dbz_nez  (block, vector) float32 424MB dask.array<chunksize=(296940, 113), meta=np.ndarray>\n",
      "    ...       ...\n",
      "    time_dy  (block) int16 1MB dask.array<chunksize=(527040,), meta=np.ndarray>\n",
      "    time_hr  (block) int16 1MB dask.array<chunksize=(527040,), meta=np.ndarray>\n",
      "    time_mo  (block) int16 1MB dask.array<chunksize=(527040,), meta=np.ndarray>\n",
      "    time_mt  (block) int16 1MB dask.array<chunksize=(527040,), meta=np.ndarray>\n",
      "    time_sc  (block) float64 4MB dask.array<chunksize=(527040,), meta=np.ndarray>\n",
      "    time_yr  (block) int16 1MB dask.array<chunksize=(527040,), meta=np.ndarray>\n",
      "Attributes:\n",
      "    description:  For the ground magnetometer data we gratefully acknowledge:...\n"
     ]
    }
   ],
   "source": [
    "def load_geomag_data(netcdf_path: str) -> xr.Dataset:\n",
    "    \"\"\"Load geomagnetic data from a NetCDF file.\"\"\"\n",
    "    try:\n",
    "        print(\"loading raw data...\")\n",
    "        ds = xr.open_dataset(netcdf_path, chunks=\"auto\")\n",
    "        print(ds)\n",
    "        return ds\n",
    "    except Exception as e:\n",
    "        raise RuntimeError(f\"Error loading NetCDF file {netcdf_path}: {e}\")\n",
    "\n",
    "geomag_path = r\"D:\\earthquake-prediction\\data\\geomagnetic_data\\supermag\\all_stations_all2024.netcdf\"\n",
    "ds = load_geomag_data(geomag_path)"
   ]
  },
  {
   "cell_type": "code",
   "execution_count": 3,
   "metadata": {},
   "outputs": [
    {
     "name": "stdout",
     "output_type": "stream",
     "text": [
      "Frozen({'dbe_geo': <xarray.Variable (block: 527040, vector: 201)> Size: 424MB\n",
      "dask.array<open_dataset-dbe_geo, shape=(527040, 201), dtype=float32, chunksize=(296940, 113), chunktype=numpy.ndarray>\n",
      "Attributes:\n",
      "    description:  Magnetic field east component, geographic coordinates [nT], 'dbe_nez': <xarray.Variable (block: 527040, vector: 201)> Size: 424MB\n",
      "dask.array<open_dataset-dbe_nez, shape=(527040, 201), dtype=float32, chunksize=(296940, 113), chunktype=numpy.ndarray>\n",
      "Attributes:\n",
      "    description:  Magnetic field east component, NEZ coordinates [nT], 'dbn_geo': <xarray.Variable (block: 527040, vector: 201)> Size: 424MB\n",
      "dask.array<open_dataset-dbn_geo, shape=(527040, 201), dtype=float32, chunksize=(296940, 113), chunktype=numpy.ndarray>\n",
      "Attributes:\n",
      "    description:  Magnetic field north component, geographic coordinates [nT], 'dbn_nez': <xarray.Variable (block: 527040, vector: 201)> Size: 424MB\n",
      "dask.array<open_dataset-dbn_nez, shape=(527040, 201), dtype=float32, chunksize=(296940, 113), chunktype=numpy.ndarray>\n",
      "Attributes:\n",
      "    description:  Magnetic field north component, NEZ coordinates [nT], 'dbz_geo': <xarray.Variable (block: 527040, vector: 201)> Size: 424MB\n",
      "dask.array<open_dataset-dbz_geo, shape=(527040, 201), dtype=float32, chunksize=(296940, 113), chunktype=numpy.ndarray>\n",
      "Attributes:\n",
      "    description:  Magnetic field vertical component, geographic coordinates [nT], 'dbz_nez': <xarray.Variable (block: 527040, vector: 201)> Size: 424MB\n",
      "dask.array<open_dataset-dbz_nez, shape=(527040, 201), dtype=float32, chunksize=(296940, 113), chunktype=numpy.ndarray>\n",
      "Attributes:\n",
      "    description:  Magnetic field vertical component, NEZ coordinates [nT], 'decl': <xarray.Variable (block: 527040, vector: 201)> Size: 424MB\n",
      "dask.array<open_dataset-decl, shape=(527040, 201), dtype=float32, chunksize=(296940, 113), chunktype=numpy.ndarray>\n",
      "Attributes:\n",
      "    description:  Magnetic Declination [degrees], 'extent': <xarray.Variable (block: 527040)> Size: 4MB\n",
      "dask.array<open_dataset-extent, shape=(527040,), dtype=float64, chunksize=(527040,), chunktype=numpy.ndarray>\n",
      "Attributes:\n",
      "    description:  Extent of Record [seconds], 'glat': <xarray.Variable (block: 527040, vector: 201)> Size: 424MB\n",
      "dask.array<open_dataset-glat, shape=(527040, 201), dtype=float32, chunksize=(296940, 113), chunktype=numpy.ndarray>\n",
      "Attributes:\n",
      "    description:  Geographic Latitude [degrees], 'glon': <xarray.Variable (block: 527040, vector: 201)> Size: 424MB\n",
      "dask.array<open_dataset-glon, shape=(527040, 201), dtype=float32, chunksize=(296940, 113), chunktype=numpy.ndarray>\n",
      "Attributes:\n",
      "    description:  Geographic Longtiude [degrees], 'id': <xarray.Variable (block: 527040, vector: 201)> Size: 1GB\n",
      "dask.array<open_dataset-id, shape=(527040, 201), dtype=<U3, chunksize=(172073, 65), chunktype=numpy.ndarray>\n",
      "Attributes:\n",
      "    description:  Station Identifier [IAGA], 'mcolat': <xarray.Variable (block: 527040, vector: 201)> Size: 424MB\n",
      "dask.array<open_dataset-mcolat, shape=(527040, 201), dtype=float32, chunksize=(296940, 113), chunktype=numpy.ndarray>\n",
      "Attributes:\n",
      "    description:  Magnetic Colatitude [degrees], 'mlat': <xarray.Variable (block: 527040, vector: 201)> Size: 424MB\n",
      "dask.array<open_dataset-mlat, shape=(527040, 201), dtype=float32, chunksize=(296940, 113), chunktype=numpy.ndarray>\n",
      "Attributes:\n",
      "    description:  Magnetic Latitude [degrees], 'mlon': <xarray.Variable (block: 527040, vector: 201)> Size: 424MB\n",
      "dask.array<open_dataset-mlon, shape=(527040, 201), dtype=float32, chunksize=(296940, 113), chunktype=numpy.ndarray>\n",
      "Attributes:\n",
      "    description:  Magnetic Longitude [degrees], 'mlt': <xarray.Variable (block: 527040, vector: 201)> Size: 424MB\n",
      "dask.array<open_dataset-mlt, shape=(527040, 201), dtype=float32, chunksize=(296940, 113), chunktype=numpy.ndarray>\n",
      "Attributes:\n",
      "    description:  Magnetic Local Time [h], 'npnt': <xarray.Variable (block: 527040)> Size: 2MB\n",
      "dask.array<open_dataset-npnt, shape=(527040,), dtype=int32, chunksize=(527040,), chunktype=numpy.ndarray>\n",
      "Attributes:\n",
      "    description:  Number of Points in Record, 'sza': <xarray.Variable (block: 527040, vector: 201)> Size: 424MB\n",
      "dask.array<open_dataset-sza, shape=(527040, 201), dtype=float32, chunksize=(296940, 113), chunktype=numpy.ndarray>\n",
      "Attributes:\n",
      "    description:  Solar Zenith Angle [degrees], 'time_dy': <xarray.Variable (block: 527040)> Size: 1MB\n",
      "dask.array<open_dataset-time_dy, shape=(527040,), dtype=int16, chunksize=(527040,), chunktype=numpy.ndarray>\n",
      "Attributes:\n",
      "    description:  Start Day, 'time_hr': <xarray.Variable (block: 527040)> Size: 1MB\n",
      "dask.array<open_dataset-time_hr, shape=(527040,), dtype=int16, chunksize=(527040,), chunktype=numpy.ndarray>\n",
      "Attributes:\n",
      "    description:  Start Hour, 'time_mo': <xarray.Variable (block: 527040)> Size: 1MB\n",
      "dask.array<open_dataset-time_mo, shape=(527040,), dtype=int16, chunksize=(527040,), chunktype=numpy.ndarray>\n",
      "Attributes:\n",
      "    description:  Start Month, 'time_mt': <xarray.Variable (block: 527040)> Size: 1MB\n",
      "dask.array<open_dataset-time_mt, shape=(527040,), dtype=int16, chunksize=(527040,), chunktype=numpy.ndarray>\n",
      "Attributes:\n",
      "    description:  Start Minute, 'time_sc': <xarray.Variable (block: 527040)> Size: 4MB\n",
      "dask.array<open_dataset-time_sc, shape=(527040,), dtype=float64, chunksize=(527040,), chunktype=numpy.ndarray>\n",
      "Attributes:\n",
      "    description:  Start Second, 'time_yr': <xarray.Variable (block: 527040)> Size: 1MB\n",
      "dask.array<open_dataset-time_yr, shape=(527040,), dtype=int16, chunksize=(527040,), chunktype=numpy.ndarray>\n",
      "Attributes:\n",
      "    description:  Start Year})\n"
     ]
    }
   ],
   "source": [
    "print(ds.variables)"
   ]
  },
  {
   "cell_type": "code",
   "execution_count": 20,
   "metadata": {},
   "outputs": [
    {
     "name": "stdout",
     "output_type": "stream",
     "text": [
      "<xarray.Dataset> Size: 20B\n",
      "Dimensions:  ()\n",
      "Data variables:\n",
      "    dbn_nez  float32 4B 4.452\n",
      "    dbe_nez  float32 4B 1.046\n",
      "    dbz_nez  float32 4B -0.7833\n",
      "    glat     float32 4B 18.62\n",
      "    glon     float32 4B 72.87\n",
      "Attributes:\n",
      "    description:  For the ground magnetometer data we gratefully acknowledge:...\n"
     ]
    }
   ],
   "source": [
    "\n",
    "print(ds[[ \"dbn_nez\", \"dbe_nez\", \"dbz_nez\", \"glat\", \"glon\"]].isel(block=1, vector=1).compute())"
   ]
  },
  {
   "cell_type": "code",
   "execution_count": 9,
   "metadata": {},
   "outputs": [
    {
     "name": "stdout",
     "output_type": "stream",
     "text": [
      "Data variables:\n",
      "    dbe_geo  (block, vector) float32 424MB dask.array<chunksize=(296940, 113), meta=np.ndarray>\n",
      "    dbe_nez  (block, vector) float32 424MB dask.array<chunksize=(296940, 113), meta=np.ndarray>\n",
      "    dbn_geo  (block, vector) float32 424MB dask.array<chunksize=(296940, 113), meta=np.ndarray>\n",
      "    dbn_nez  (block, vector) float32 424MB dask.array<chunksize=(296940, 113), meta=np.ndarray>\n",
      "    dbz_geo  (block, vector) float32 424MB dask.array<chunksize=(296940, 113), meta=np.ndarray>\n",
      "    dbz_nez  (block, vector) float32 424MB dask.array<chunksize=(296940, 113), meta=np.ndarray>\n",
      "    decl     (block, vector) float32 424MB dask.array<chunksize=(296940, 113), meta=np.ndarray>\n",
      "    extent   (block) float64 4MB dask.array<chunksize=(527040,), meta=np.ndarray>\n",
      "    glat     (block, vector) float32 424MB dask.array<chunksize=(296940, 113), meta=np.ndarray>\n",
      "    glon     (block, vector) float32 424MB dask.array<chunksize=(296940, 113), meta=np.ndarray>\n",
      "    id       (block, vector) <U3 1GB dask.array<chunksize=(172073, 65), meta=np.ndarray>\n",
      "    mcolat   (block, vector) float32 424MB dask.array<chunksize=(296940, 113), meta=np.ndarray>\n",
      "    mlat     (block, vector) float32 424MB dask.array<chunksize=(296940, 113), meta=np.ndarray>\n",
      "    mlon     (block, vector) float32 424MB dask.array<chunksize=(296940, 113), meta=np.ndarray>\n",
      "    mlt      (block, vector) float32 424MB dask.array<chunksize=(296940, 113), meta=np.ndarray>\n",
      "    npnt     (block) int32 2MB dask.array<chunksize=(527040,), meta=np.ndarray>\n",
      "    sza      (block, vector) float32 424MB dask.array<chunksize=(296940, 113), meta=np.ndarray>\n",
      "    time_dy  (block) int16 1MB dask.array<chunksize=(527040,), meta=np.ndarray>\n",
      "    time_hr  (block) int16 1MB dask.array<chunksize=(527040,), meta=np.ndarray>\n",
      "    time_mo  (block) int16 1MB dask.array<chunksize=(527040,), meta=np.ndarray>\n",
      "    time_mt  (block) int16 1MB dask.array<chunksize=(527040,), meta=np.ndarray>\n",
      "    time_sc  (block) float64 4MB dask.array<chunksize=(527040,), meta=np.ndarray>\n",
      "    time_yr  (block) int16 1MB dask.array<chunksize=(527040,), meta=np.ndarray>\n"
     ]
    }
   ],
   "source": [
    "print(ds.data_vars)"
   ]
  },
  {
   "cell_type": "code",
   "execution_count": 30,
   "metadata": {},
   "outputs": [
    {
     "name": "stdout",
     "output_type": "stream",
     "text": [
      "<xarray.Dataset> Size: 202kB\n",
      "Dimensions:  (block: 10080)\n",
      "Dimensions without coordinates: block\n",
      "Data variables:\n",
      "    dbn_nez  (block) float32 40kB 4.957 4.903 4.831 4.864 ... 8.531 8.304 8.188\n",
      "    dbe_nez  (block) float32 40kB 2.935 2.933 2.732 ... -2.593 -2.682 -2.68\n",
      "    dbz_nez  (block) float32 40kB -2.558 -2.558 -2.559 ... -3.162 -3.26 -3.263\n",
      "    glat     (block) float32 40kB 43.25 43.25 43.25 43.25 ... 43.25 43.25 43.25\n",
      "    glon     (block) float32 40kB 76.92 76.92 76.92 76.92 ... 76.92 76.92 76.92\n",
      "Attributes:\n",
      "    description:  For the ground magnetometer data we gratefully acknowledge:...\n"
     ]
    }
   ],
   "source": [
    "\n",
    "start_time = {\"time_yr\": 2024, \"time_mo\": 1, \"time_dy\": 1, \"time_hr\": 0, \"time_mt\": 0}  # Start: Jan 1, 2025, 00:00\n",
    "end_time = {\"time_yr\": 2024, \"time_mo\": 1, \"time_dy\": 7, \"time_hr\": 0, \"time_mt\": 0}    # End: Jan 2, 2025, 00:00\n",
    "\n",
    "# Step 1: Select variables of interest\n",
    "selected_vars = ds[[\"dbn_nez\", \"dbe_nez\", \"dbz_nez\", \"glat\", \"glon\"]]\n",
    "\n",
    "\n",
    "time_mask = (\n",
    "    (ds[\"time_yr\"] >= start_time[\"time_yr\"]) & (ds[\"time_yr\"] <= end_time[\"time_yr\"]) &\n",
    "    (ds[\"time_mo\"] >= start_time[\"time_mo\"]) & (ds[\"time_mo\"] <= end_time[\"time_mo\"]) &\n",
    "    (ds[\"time_dy\"] >= start_time[\"time_dy\"]) & (ds[\"time_dy\"] <= end_time[\"time_dy\"]) \n",
    "    # (ds[\"time_hr\"] >= start_time[\"time_hr\"]) & (ds[\"time_hr\"] <= end_time[\"time_hr\"]) &\n",
    "    # (ds[\"time_mt\"] >= start_time[\"time_mt\"]) & (ds[\"time_mt\"] <= end_time[\"time_mt\"])\n",
    ").compute()\n",
    "\n",
    "# Step 3: Apply the time mask\n",
    "selected_data = selected_vars.where(time_mask, drop=True)\n",
    "# Step 4: Compute the selection (load into memory)\n",
    "final_data = selected_data.sel(vector=0).compute()\n",
    "\n",
    "# Step 5: Print the result\n",
    "print(final_data)"
   ]
  },
  {
   "cell_type": "code",
   "execution_count": null,
   "metadata": {},
   "outputs": [],
   "source": [
    "'''\n",
    "load geomagnetic data of corresponding year\n",
    "for earthquake in catalog of corresponding year:\n",
    "    for i in range(0, num_stations):\n",
    "        get \"dbn_nez\", \"dbe_nez\", \"dbz_nez\", \"glat\", \"glon\" for time period before earthquake\n",
    "        if earthquake lat lon is in range 200km:\n",
    "            save \"dbn_nez\", \"dbe_nez\", \"dbz_nez\" as sample to dataframe\n",
    "\n",
    "\n",
    "'''"
   ]
  }
 ],
 "metadata": {
  "kernelspec": {
   "display_name": "DL",
   "language": "python",
   "name": "python3"
  },
  "language_info": {
   "codemirror_mode": {
    "name": "ipython",
    "version": 3
   },
   "file_extension": ".py",
   "mimetype": "text/x-python",
   "name": "python",
   "nbconvert_exporter": "python",
   "pygments_lexer": "ipython3",
   "version": "3.11.10"
  }
 },
 "nbformat": 4,
 "nbformat_minor": 2
}
